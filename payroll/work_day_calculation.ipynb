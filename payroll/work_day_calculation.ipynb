{
 "cells": [
  {
   "cell_type": "code",
   "execution_count": 14,
   "metadata": {},
   "outputs": [],
   "source": [
    "import datetime"
   ]
  },
  {
   "cell_type": "code",
   "execution_count": 27,
   "metadata": {},
   "outputs": [],
   "source": [
    "payslip = env['hr.payslip'].browse(4)"
   ]
  },
  {
   "cell_type": "code",
   "execution_count": 36,
   "metadata": {},
   "outputs": [],
   "source": [
    "def get_businness_days():\n",
    "    now = payslip.date_from\n",
    "    businessdays = 0\n",
    "    holidays = get_holidays()\n",
    "    for i in range(1, 32):\n",
    "        try:\n",
    "            thisdate = datetime.date(now.year, now.month, i)\n",
    "        except Exception:\n",
    "            break\n",
    "        if thisdate.weekday() < 5 and thisdate not in holidays:\n",
    "            businessdays += 1\n",
    "    return businessdays"
   ]
  },
  {
   "cell_type": "code",
   "execution_count": 38,
   "metadata": {},
   "outputs": [],
   "source": [
    "def get_holidays():\n",
    "    holidays = []\n",
    "    global_leaves = payslip.contract_id.resource_calendar_id.global_leave_ids\n",
    "    for leave in global_leaves:\n",
    "        start_date = leave.date_from.date()\n",
    "        end_date = leave.date_to.date()\n",
    "        delta = end_date - start_date\n",
    "        numdays = delta.days\n",
    "        date_list = [end_date - datetime.timedelta(days=x) for x in range(numdays)]\n",
    "        date_list.append(start_date)\n",
    "        holidays.extend(date_list)\n",
    "    return holidays"
   ]
  },
  {
   "cell_type": "code",
   "execution_count": 39,
   "metadata": {},
   "outputs": [
    {
     "data": {
      "text/plain": [
       "[datetime.date(2019, 9, 27),\n",
       " datetime.date(2019, 9, 26),\n",
       " datetime.date(2019, 9, 25),\n",
       " datetime.date(2019, 9, 4),\n",
       " datetime.date(2019, 9, 3)]"
      ]
     },
     "execution_count": 39,
     "metadata": {},
     "output_type": "execute_result"
    }
   ],
   "source": [
    "get_holidays()"
   ]
  },
  {
   "cell_type": "code",
   "execution_count": 31,
   "metadata": {},
   "outputs": [],
   "source": [
    "holidays = []\n",
    "global_leaves = payslip.contract_id.resource_calendar_id.global_leave_ids\n",
    "for leave in global_leaves:\n",
    "    start_date = leave.date_from.date()\n",
    "    end_date = leave.date_to.date()\n",
    "    delta = end_date - start_date\n",
    "    numdays = delta.days\n",
    "    date_list = []\n",
    "    for x in range (0, numdays):\n",
    "        date_list.append(end_date - datetime.timedelta(days = x))\n",
    "    date_list.append(start_date)\n",
    "    holidays.extend(date_list)"
   ]
  },
  {
   "cell_type": "code",
   "execution_count": 35,
   "metadata": {},
   "outputs": [
    {
     "name": "stdout",
     "output_type": "stream",
     "text": [
      "2019-09-24\n",
      "2019-09-02\n"
     ]
    }
   ],
   "source": [
    "global_leaves = payslip.contract_id.resource_calendar_id.global_leave_ids\n",
    "for leave in global_leaves:\n",
    "    print(leave.date_from.date())"
   ]
  },
  {
   "cell_type": "code",
   "execution_count": 13,
   "metadata": {},
   "outputs": [
    {
     "data": {
      "text/plain": [
       "datetime.date(2019, 9, 2)"
      ]
     },
     "execution_count": 13,
     "metadata": {},
     "output_type": "execute_result"
    }
   ],
   "source": [
    "start_date"
   ]
  },
  {
   "cell_type": "code",
   "execution_count": 9,
   "metadata": {},
   "outputs": [
    {
     "data": {
      "text/plain": [
       "datetime.date"
      ]
     },
     "execution_count": 9,
     "metadata": {},
     "output_type": "execute_result"
    }
   ],
   "source": [
    "type(payslip.date_from)"
   ]
  },
  {
   "cell_type": "code",
   "execution_count": null,
   "metadata": {},
   "outputs": [],
   "source": []
  },
  {
   "cell_type": "code",
   "execution_count": null,
   "metadata": {},
   "outputs": [],
   "source": []
  }
 ],
 "metadata": {
  "kernelspec": {
   "display_name": "Odoo-shell",
   "language": "",
   "name": "odoo"
  },
  "language_info": {
   "codemirror_mode": {
    "name": "ipython",
    "version": 3
   },
   "file_extension": ".py",
   "mimetype": "text/x-python",
   "name": "python",
   "nbconvert_exporter": "python",
   "pygments_lexer": "ipython3",
   "version": "3.6.8"
  }
 },
 "nbformat": 4,
 "nbformat_minor": 2
}
